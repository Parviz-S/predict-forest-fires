{
 "cells": [
  {
   "cell_type": "code",
   "execution_count": 1,
   "metadata": {},
   "outputs": [],
   "source": [
    "import numpy as np \n",
    "import pandas as pd \n",
    "import math \n",
    "from sklearn import datasets, model_selection, naive_bayes\n",
    "from sklearn.naive_bayes import MultinomialNB\n",
    "import matplotlib.pyplot as plt\n",
    "%matplotlib inline"
   ]
  },
  {
   "cell_type": "markdown",
   "metadata": {},
   "source": [
    "Load datasets:"
   ]
  },
  {
   "cell_type": "code",
   "execution_count": 2,
   "metadata": {},
   "outputs": [],
   "source": [
    "WildFiresData = pd.read_csv('Historical_Wildfires.csv')\n",
    "HistoricalWeather = pd.read_csv('HistoricalWeather.csv')"
   ]
  },
  {
   "cell_type": "markdown",
   "metadata": {},
   "source": [
    "Create train data and labels(it takes 7-10 minutes):"
   ]
  },
  {
   "cell_type": "code",
   "execution_count": 3,
   "metadata": {},
   "outputs": [],
   "source": [
    "data_train = []\n",
    "data_train_SoilPer = []\n",
    "data_train_SolarPer = []\n",
    "data_train_SolarSoil = []\n",
    "data_train_Per = []\n",
    "data_train_Soil = []\n",
    "data_train_Solar = []\n",
    "data_train_Empty = []\n",
    "label_train = []\n",
    "number_emptydata = 0\n",
    "for i in range(len(WildFiresData)):\n",
    "    dateoffire = WildFiresData['Date'].iloc[i]\n",
    "    region = WildFiresData['Region'].iloc[i]\n",
    "    spliteddate = dateoffire.split('/')\n",
    "    if int(spliteddate[0]) < 10:\n",
    "        spliteddate[0] = '0' + spliteddate[0]\n",
    "    if int(spliteddate[1]) < 10:\n",
    "        spliteddate[1] = '0' + spliteddate[1]\n",
    "    finaldate = spliteddate[2] + '-' + spliteddate[1] + '-' + spliteddate[0]\n",
    "    matchdate = HistoricalWeather[HistoricalWeather['Date'] == finaldate]\n",
    "    final_matcheddate = matchdate[matchdate['Region'] == region]\n",
    "    try:\n",
    "        Precipitation = final_matcheddate[final_matcheddate['Parameter'] == 'Precipitation']['mean()'].iloc[0]\n",
    "        RelativeHumidity = final_matcheddate[final_matcheddate['Parameter'] == 'RelativeHumidity']['mean()'].iloc[0]\n",
    "        SoilWaterContent = final_matcheddate[final_matcheddate['Parameter'] == 'SoilWaterContent']['mean()'].iloc[0]\n",
    "        SolarRadiation = final_matcheddate[final_matcheddate['Parameter'] == 'SolarRadiation']['mean()'].iloc[0]\n",
    "        Temperature = final_matcheddate[final_matcheddate['Parameter'] == 'Temperature']['mean()'].iloc[0]\n",
    "        WindSpeed = final_matcheddate[final_matcheddate['Parameter'] == 'WindSpeed']['mean()'].iloc[0]\n",
    "        data_train.append([Precipitation, RelativeHumidity, SoilWaterContent, SolarRadiation, Temperature, WindSpeed])\n",
    "        data_train_SoilPer.append([RelativeHumidity, SolarRadiation, Temperature, WindSpeed])\n",
    "        data_train_SolarPer.append([RelativeHumidity, SoilWaterContent, Temperature, WindSpeed])\n",
    "        data_train_SolarSoil.append([Precipitation, RelativeHumidity, Temperature, WindSpeed])\n",
    "        data_train_Per.append([RelativeHumidity, SoilWaterContent, SolarRadiation, Temperature, WindSpeed])\n",
    "        data_train_Soil.append([Precipitation, RelativeHumidity, SolarRadiation, Temperature, WindSpeed])\n",
    "        data_train_Solar.append([Precipitation, RelativeHumidity, SoilWaterContent, Temperature, WindSpeed])\n",
    "        data_train_Empty.append([RelativeHumidity, Temperature, WindSpeed])\n",
    "        label_train.append(1)\n",
    "    except:\n",
    "        number_emptydata += 1 \n",
    "    try:\n",
    "        allregion = matchdate['Region'].drop_duplicates().values\n",
    "        allregion = np.delete(allregion, np.where(allregion == region))\n",
    "        for tempregion in allregion:\n",
    "            final_matchedlabeldate = matchdate[matchdate['Region'] == tempregion]\n",
    "            Precipitation = final_matchedlabeldate[final_matchedlabeldate['Parameter'] == 'Precipitation']['mean()'].iloc[0]\n",
    "            RelativeHumidity = final_matchedlabeldate[final_matchedlabeldate['Parameter'] == 'RelativeHumidity']['mean()'].iloc[0]\n",
    "            SoilWaterContent = final_matchedlabeldate[final_matchedlabeldate['Parameter'] == 'SoilWaterContent']['mean()'].iloc[0]\n",
    "            SolarRadiation = final_matchedlabeldate[final_matchedlabeldate['Parameter'] == 'SolarRadiation']['mean()'].iloc[0]\n",
    "            Temperature = final_matchedlabeldate[final_matchedlabeldate['Parameter'] == 'Temperature']['mean()'].iloc[0]\n",
    "            WindSpeed = final_matchedlabeldate[final_matchedlabeldate['Parameter'] == 'WindSpeed']['mean()'].iloc[0]\n",
    "            data_train.append([Precipitation, RelativeHumidity, SoilWaterContent, SolarRadiation, Temperature, WindSpeed])\n",
    "            data_train_SoilPer.append([RelativeHumidity, SolarRadiation, Temperature, WindSpeed])\n",
    "            data_train_SolarPer.append([RelativeHumidity, SoilWaterContent, Temperature, WindSpeed])\n",
    "            data_train_SolarSoil.append([Precipitation, RelativeHumidity, Temperature, WindSpeed])\n",
    "            data_train_Per.append([RelativeHumidity, SoilWaterContent, SolarRadiation, Temperature, WindSpeed])\n",
    "            data_train_Soil.append([Precipitation, RelativeHumidity, SolarRadiation, Temperature, WindSpeed])\n",
    "            data_train_Solar.append([Precipitation, RelativeHumidity, SoilWaterContent, Temperature, WindSpeed])\n",
    "            data_train_Empty.append([RelativeHumidity, Temperature, WindSpeed])\n",
    "            label_train.append(0)\n",
    "    except:  \n",
    "        number_emptydata += 1 "
   ]
  },
  {
   "cell_type": "markdown",
   "metadata": {},
   "source": [
    "Use Machine Learning with trained data and labels to predict wildfire:"
   ]
  },
  {
   "cell_type": "code",
   "execution_count": 45,
   "metadata": {},
   "outputs": [],
   "source": [
    "def choosingmachine(Existence_list, Precipitation, RelativeHumidity, SoilWaterContent, SolarRadiation, Temperature, WindSpeed):    \n",
    "    model = MultinomialNB()\n",
    "    if Existence_list == ['Yes','No','No']:\n",
    "        X = data_train_SoilPer\n",
    "        y = label_train\n",
    "        model.fit(X, y)\n",
    "        predictML = round(model.predict_proba([[RelativeHumidity, SolarRadiation, Temperature, WindSpeed]])[0][1]*100,2)\n",
    "        accuracyML = round(model.score(X, y)*100,2)\n",
    "            \n",
    "    elif Existence_list == ['No','Yes','No']:\n",
    "        X = data_train_SolarPer\n",
    "        y = label_train\n",
    "        model.fit(X, y)\n",
    "        predictML = round(model.predict_proba([[RelativeHumidity, SoilWaterContent, Temperature, WindSpeed]])[0][1]*100,2)\n",
    "        accuracyML = round(model.score(X, y)*100,2)\n",
    "        \n",
    "    elif Existence_list == ['No','No','Yes']:\n",
    "        X = data_train_SolarSoil\n",
    "        y = label_train\n",
    "        model.fit(X, y)\n",
    "        predictML = round(model.predict_proba([[Precipitation, RelativeHumidity, Temperature, WindSpeed]])[0][1]*100,2)\n",
    "        accuracyML = round(model.score(X, y)*100,2)\n",
    "        \n",
    "    elif Existence_list == ['Yes','Yes','No']:\n",
    "        X = data_train_Per\n",
    "        y = label_train\n",
    "        model.fit(X, y)\n",
    "        predictML = round(model.predict_proba([[RelativeHumidity, SoilWaterContent, SolarRadiation, Temperature, WindSpeed]])[0][1]*100,2)\n",
    "        accuracyML = round(model.score(X, y)*100,2)\n",
    "        \n",
    "    elif Existence_list == ['Yes','No','Yes']:\n",
    "        X = data_train_Soil\n",
    "        y = label_train\n",
    "        model.fit(X, y)\n",
    "        predictML = round(model.predict_proba([[Precipitation, RelativeHumidity, SolarRadiation, Temperature, WindSpeed]])[0][1]*100,2)\n",
    "        accuracyML = round(model.score(X, y)*100,2)\n",
    "        \n",
    "    elif Existence_list == ['No','Yes','Yes']:\n",
    "        X = data_train_Solar\n",
    "        y = label_train\n",
    "        model.fit(X, y)\n",
    "        predictML = round(model.predict_proba([[Precipitation, RelativeHumidity, SoilWaterContent, Temperature, WindSpeed]])[0][1]*100,2)\n",
    "        accuracyML = round(model.score(X, y)*100,2)\n",
    "    \n",
    "    elif Existence_list == ['No', 'No', 'No']:\n",
    "        X = data_train_Empty\n",
    "        y = label_train\n",
    "        model.fit(X, y)\n",
    "        predictML = round(model.predict_proba([[RelativeHumidity, Temperature, WindSpeed]])[0][1]*100,2)\n",
    "        accuracyML = round(model.score(X, y)*100,2)    \n",
    "        \n",
    "    else:\n",
    "        X = data_train\n",
    "        y = label_train\n",
    "        model.fit(X, y)\n",
    "        predictML = round(model.predict_proba([[Precipitation, RelativeHumidity, SoilWaterContent, SolarRadiation, Temperature, WindSpeed]])[0][1]*100,2)\n",
    "        accuracyML = round(model.score(X, y)*100,2)\n",
    "    return [accuracyML, predictML] "
   ]
  },
  {
   "cell_type": "markdown",
   "metadata": {},
   "source": [
    "FFWI formula to predict fire index: "
   ]
  },
  {
   "cell_type": "code",
   "execution_count": 46,
   "metadata": {},
   "outputs": [],
   "source": [
    "def FFWIformula(windavr, tempavr, havr):\n",
    "    tempavr = (tempavr * (9/5)) + 32\n",
    "    windavr = windavr/0.44704\n",
    "    if havr < 10:\n",
    "        m = 0.03229 + (0.281073 * havr)-(0.000578 * havr * tempavr)\n",
    "    elif 10 <= havr <= 50:\n",
    "        m = 2.22749 + (0.160107 * havr) - (0.01478 * tempavr)\n",
    "    elif havr > 50:\n",
    "        m = 21.0606 + (0.005565 * havr**2) - (0.00035 * havr * tempavr) - (0.483199 * havr)\n",
    "    n = 1 - (2 * (m/30)) + (1.5 * (m/30)**2) - (0.5 * (m/30)**3)\n",
    "    FFWI = n * (math.sqrt(1 + windavr**2)/0.3002)\n",
    "    return round(FFWI, 2)"
   ]
  },
  {
   "cell_type": "markdown",
   "metadata": {},
   "source": [
    "The function to find average probability:"
   ]
  },
  {
   "cell_type": "code",
   "execution_count": 47,
   "metadata": {},
   "outputs": [],
   "source": [
    "def AverageProb():\n",
    "    averageProb = (choosingmachine(Existence_list, Precipitation, RelativeHumidity, SoilWaterContent, SolarRadiation, Temperature, WindSpeed)[1] + FFWIformula(WindSpeed, Temperature, RelativeHumidity))/2\n",
    "    if averageProb < 50:\n",
    "        dangerlavel = 'Low'\n",
    "    elif 50 <= averageProb < 70:\n",
    "        dangerlavel = 'Medium'\n",
    "    elif 70 <= averageProb < 90:\n",
    "        dangerlavel = 'High (dangerous!)'\n",
    "    elif 90 <= averageProb <= 100:\n",
    "        dangerlavel = 'Extreme (Very dangerous!)'\n",
    "    elif 101 <= averageProb:\n",
    "        dangerlavel = 'Very Extreme (Extremely dangerous!)'\n",
    "    return dangerlavel"
   ]
  },
  {
   "cell_type": "markdown",
   "metadata": {},
   "source": [
    "The function to ask weather parameters based on choice of an user:"
   ]
  },
  {
   "cell_type": "code",
   "execution_count": 48,
   "metadata": {},
   "outputs": [],
   "source": [
    "def Inputchoice(Existence_list):\n",
    "    if Existence_list == ['Yes','No','No']:\n",
    "        Precipitation = 0\n",
    "        SoilWaterContent = 0\n",
    "        SolarRadiation = float(input('mean solar radiation(MJ/day):'))\n",
    "\n",
    "    \n",
    "    elif Existence_list == ['No','Yes','No']:\n",
    "        Precipitation = 0\n",
    "        SoilWaterContent = float(input('mean soil water content(m**3/m**-3):'))\n",
    "        SolarRadiation = 0\n",
    "        \n",
    "    elif Existence_list == ['No','No','Yes']:\n",
    "        Precipitation = float(input('mean precipitation(in):'))\n",
    "        SoilWaterContent = 0\n",
    "        SolarRadiation = 0\n",
    "\n",
    "        \n",
    "    elif Existence_list == ['Yes','Yes','No']:\n",
    "        Precipitation = 0\n",
    "        SoilWaterContent = float(input('mean soil water content(m**3/m**-3):'))\n",
    "        SolarRadiation = float(input('mean solar radiation(MJ/day):'))\n",
    "\n",
    "        \n",
    "    elif Existence_list == ['Yes','No','Yes']:\n",
    "        Precipitation = float(input('mean precipitation(in):'))\n",
    "        SoilWaterContent = 0\n",
    "        SolarRadiation = float(input('mean solar radiation(MJ/day):'))\n",
    "\n",
    "        \n",
    "    elif Existence_list == ['No','Yes','Yes']:\n",
    "        Precipitation = float(input('mean precipitation(in):'))\n",
    "        SoilWaterContent = float(input('mean soil water content(m**3/m**-3):'))\n",
    "        SolarRadiation = 0\n",
    "    \n",
    "    elif Existence_list == ['No', 'No', 'No']:\n",
    "        Precipitation = 0\n",
    "        SoilWaterContent = 0\n",
    "        SolarRadiation = 0\n",
    "        \n",
    "    else:\n",
    "        Precipitation = float(input('mean precipitation(in):'))\n",
    "        SoilWaterContent = float(input('mean soil water content(m**3/m**-3):'))\n",
    "        SolarRadiation = float(input('mean solar radiation(MJ/day):'))\n",
    "    return [Precipitation, SoilWaterContent, SolarRadiation]"
   ]
  },
  {
   "cell_type": "markdown",
   "metadata": {},
   "source": [
    "The function to predict wildfires probability based on given DataFrame:"
   ]
  },
  {
   "cell_type": "code",
   "execution_count": 49,
   "metadata": {},
   "outputs": [],
   "source": [
    "def predictDataFrame(data_csv):\n",
    "    data_accuracy = []\n",
    "    data_predict = []\n",
    "    for i in range(len(data_csv)):\n",
    "        Existence_Solar = 'Yes'\n",
    "        Existence_Soil = 'Yes'\n",
    "        Existence_Per = 'Yes'\n",
    "        try:\n",
    "            Precipitation = data_csv['Mean Precipitation'].iloc[i]\n",
    "        except:\n",
    "            Existence_Per = 'No'\n",
    "            Precipitation = 0\n",
    "        try:\n",
    "            SoilWaterContent = data_csv['Mean Soil Water Content'].iloc[i]\n",
    "        except:\n",
    "            Existence_Soil = 'No'\n",
    "            SoilWaterContent = 0\n",
    "        try:\n",
    "            SolarRadiation = data_csv['Mean Solar Radiation'].iloc[i]\n",
    "        except:\n",
    "            Existence_Solar = 'No'     \n",
    "            SolarRadiation = 0\n",
    "        RelativeHumidity = data_csv['Mean Relative Humidity'].iloc[i]\n",
    "        Temperature = data_csv['Mean Temperature'].iloc[i]\n",
    "        WindSpeed = data_csv['Mean Wind Speeds'].iloc[i]\n",
    "        Existence_list = [Existence_Solar, Existence_Soil, Existence_Per] \n",
    "        accuracyML, predictML = choosingmachine(Existence_list, Precipitation, RelativeHumidity, SoilWaterContent, SolarRadiation, Temperature, WindSpeed)\n",
    "        data_predict.append(predictML)\n",
    "        data_accuracy.append(accuracyML)\n",
    "    return [data_predict, data_accuracy]"
   ]
  },
  {
   "cell_type": "markdown",
   "metadata": {},
   "source": [
    "The function to save results from the predicted DF and plot:"
   ]
  },
  {
   "cell_type": "code",
   "execution_count": 66,
   "metadata": {},
   "outputs": [],
   "source": [
    "def saveResults():\n",
    "    if input('Do you want to save result in csv? (Yes/No) ') == 'Yes':\n",
    "        createDFresult().to_csv('prediction_result.csv')\n",
    "        print('The data saved as prediction_result.csv!')\n",
    "    if input('Do you want to save plot in png? (Yes/No)? ') == 'Yes':\n",
    "        createDFresult().plot()\n",
    "        plt.savefig('prediction_plot.png', dpi = 300, bbox_inches = 'tight')\n",
    "        print('The plot saved as prediction_plot.png! ')"
   ]
  },
  {
   "cell_type": "markdown",
   "metadata": {},
   "source": [
    "Print results:"
   ]
  },
  {
   "cell_type": "code",
   "execution_count": 65,
   "metadata": {},
   "outputs": [],
   "source": [
    "def printresults():\n",
    "    print('Probability of occuring fire by Machine Learing(%): ', predictML)\n",
    "    print('Fire index by FFWI formula: ', FFWIformula(WindSpeed, Temperature, RelativeHumidity))\n",
    "    print('Danger level by average probability of FFWI formula and ML: ', AverageProb())\n",
    "    print('Accuracy of ML: ', accuracyML)"
   ]
  },
  {
   "cell_type": "markdown",
   "metadata": {},
   "source": [
    "Create DataFrame based on ML results:"
   ]
  },
  {
   "cell_type": "code",
   "execution_count": 63,
   "metadata": {},
   "outputs": [],
   "source": [
    "def createDFresult():\n",
    "    res_data = data_csv.drop(columns = ['Mean Precipitation', 'Mean Relative Humidity', 'Mean Soil Water Content', 'Mean Solar Radiation', 'Mean Temperature', 'Mean Wind Speeds'])\n",
    "    data_predict, data_accuracy = predictDataFrame(data_csv)\n",
    "    res_data['Prediction'] = data_predict\n",
    "    res_data['Accuracy'] = data_accuracy\n",
    "    res_data = res_data.set_index('Date (mm/dd/yy)')\n",
    "    return res_data "
   ]
  },
  {
   "cell_type": "markdown",
   "metadata": {},
   "source": [
    "Create plot based on ML results:"
   ]
  },
  {
   "cell_type": "code",
   "execution_count": 64,
   "metadata": {},
   "outputs": [],
   "source": [
    "def createDFplot():\n",
    "    createDFresult().plot(kind = 'line', y = ['Prediction','Accuracy'], figsize=(20, 10))\n",
    "    plt.ylabel('Prediction')\n",
    "    plt.show()    "
   ]
  },
  {
   "cell_type": "markdown",
   "metadata": {},
   "source": [
    "Run Prediction Code:"
   ]
  },
  {
   "cell_type": "code",
   "execution_count": 68,
   "metadata": {},
   "outputs": [
    {
     "name": "stdout",
     "output_type": "stream",
     "text": [
      "Do you want to use DataFrame? (Yes/No) No\n",
      "Which types of weather parametrs do you have? (Less parameters will affect the accuracy of Machine Learning)\n",
      "Solar Radiation (Yes/No)Yes\n",
      "Soil Water Content (Yes/No)No\n",
      "Precipitation (Yes/No)Yes\n",
      "mean wind (m/s):5\n",
      "mean temperature (C):20\n",
      "mean humidity (%):20\n",
      "mean precipitation(in):0.04\n",
      "mean solar radiation(MJ/day):25\n",
      "Probability of occuring fire by Machine Learing(%):  72.6\n",
      "Fire index by FFWI formula:  27.53\n",
      "Danger level by average probability of FFWI formula and ML:  Medium\n",
      "Accuracy of ML:  71.31\n"
     ]
    }
   ],
   "source": [
    "if input('Do you want to use DataFrame? (Yes/No) ') == 'Yes':\n",
    "    data_csv = pd.read_csv(input('Put csv name: '))\n",
    "    print(createDFresult())\n",
    "    createDFplot()\n",
    "    saveResults()\n",
    "\n",
    "else:        \n",
    "    print('Which types of weather parametrs do you have? (Less parameters will affect the accuracy of Machine Learning)')\n",
    "    Existence_Solar = input('Solar Radiation (Yes/No)')\n",
    "    Existence_Soil = input('Soil Water Content (Yes/No)')\n",
    "    Existence_Per = input('Precipitation (Yes/No)')\n",
    "    Existence_list = [Existence_Solar, Existence_Soil, Existence_Per]\n",
    "\n",
    "    WindSpeed = float(input('mean wind (m/s):'))\n",
    "    Temperature = float(input('mean temperature (C):'))\n",
    "    RelativeHumidity = float(input('mean humidity (%):'))\n",
    "    \n",
    "    Precipitation, SoilWaterContent, SolarRadiation = Inputchoice(Existence_list)\n",
    "    accuracyML, predictML = choosingmachine(Existence_list, Precipitation, RelativeHumidity, SoilWaterContent, SolarRadiation, Temperature, WindSpeed)\n",
    "    \n",
    "    printresults()"
   ]
  },
  {
   "cell_type": "code",
   "execution_count": 69,
   "metadata": {},
   "outputs": [
    {
     "data": {
      "text/html": [
       "<div>\n",
       "<style scoped>\n",
       "    .dataframe tbody tr th:only-of-type {\n",
       "        vertical-align: middle;\n",
       "    }\n",
       "\n",
       "    .dataframe tbody tr th {\n",
       "        vertical-align: top;\n",
       "    }\n",
       "\n",
       "    .dataframe thead th {\n",
       "        text-align: right;\n",
       "    }\n",
       "</style>\n",
       "<table border=\"1\" class=\"dataframe\">\n",
       "  <thead>\n",
       "    <tr style=\"text-align: right;\">\n",
       "      <th></th>\n",
       "      <th>Prediction</th>\n",
       "      <th>Accuracy</th>\n",
       "    </tr>\n",
       "    <tr>\n",
       "      <th>Date (mm/dd/yy)</th>\n",
       "      <th></th>\n",
       "      <th></th>\n",
       "    </tr>\n",
       "  </thead>\n",
       "  <tbody>\n",
       "    <tr>\n",
       "      <td>10/22/21</td>\n",
       "      <td>47.76</td>\n",
       "      <td>71.23</td>\n",
       "    </tr>\n",
       "    <tr>\n",
       "      <td>10/23/21</td>\n",
       "      <td>73.86</td>\n",
       "      <td>71.23</td>\n",
       "    </tr>\n",
       "    <tr>\n",
       "      <td>10/24/21</td>\n",
       "      <td>16.35</td>\n",
       "      <td>71.23</td>\n",
       "    </tr>\n",
       "    <tr>\n",
       "      <td>10/25/21</td>\n",
       "      <td>82.54</td>\n",
       "      <td>71.23</td>\n",
       "    </tr>\n",
       "    <tr>\n",
       "      <td>10/26/21</td>\n",
       "      <td>0.00</td>\n",
       "      <td>71.23</td>\n",
       "    </tr>\n",
       "    <tr>\n",
       "      <td>10/27/21</td>\n",
       "      <td>1.44</td>\n",
       "      <td>71.23</td>\n",
       "    </tr>\n",
       "    <tr>\n",
       "      <td>10/28/21</td>\n",
       "      <td>94.63</td>\n",
       "      <td>71.23</td>\n",
       "    </tr>\n",
       "  </tbody>\n",
       "</table>\n",
       "</div>"
      ],
      "text/plain": [
       "                 Prediction  Accuracy\n",
       "Date (mm/dd/yy)                      \n",
       "10/22/21              47.76     71.23\n",
       "10/23/21              73.86     71.23\n",
       "10/24/21              16.35     71.23\n",
       "10/25/21              82.54     71.23\n",
       "10/26/21               0.00     71.23\n",
       "10/27/21               1.44     71.23\n",
       "10/28/21              94.63     71.23"
      ]
     },
     "execution_count": 69,
     "metadata": {},
     "output_type": "execute_result"
    }
   ],
   "source": [
    "res_data"
   ]
  }
 ],
 "metadata": {
  "kernelspec": {
   "display_name": "Python 3",
   "language": "python",
   "name": "python3"
  },
  "language_info": {
   "codemirror_mode": {
    "name": "ipython",
    "version": 3
   },
   "file_extension": ".py",
   "mimetype": "text/x-python",
   "name": "python",
   "nbconvert_exporter": "python",
   "pygments_lexer": "ipython3",
   "version": "3.8.8"
  }
 },
 "nbformat": 4,
 "nbformat_minor": 2
}
