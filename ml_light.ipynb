{
 "cells": [
  {
   "cell_type": "code",
   "execution_count": 1,
   "metadata": {},
   "outputs": [],
   "source": [
    "import numpy as np \n",
    "import pandas as pd \n",
    "import math \n",
    "from sklearn import datasets, model_selection, naive_bayes\n",
    "from sklearn.naive_bayes import MultinomialNB"
   ]
  },
  {
   "cell_type": "markdown",
   "metadata": {},
   "source": [
    "Load datasets:"
   ]
  },
  {
   "cell_type": "code",
   "execution_count": 2,
   "metadata": {},
   "outputs": [],
   "source": [
    "WildFiresData = pd.read_csv('Historical_Wildfires.csv')\n",
    "HistoricalWeather = pd.read_csv('HistoricalWeather.csv')"
   ]
  },
  {
   "cell_type": "markdown",
   "metadata": {},
   "source": [
    "Create train data and labels(it takes 7-10 minutes):"
   ]
  },
  {
   "cell_type": "code",
   "execution_count": 5,
   "metadata": {},
   "outputs": [],
   "source": [
    "data_train = []\n",
    "label_train = []\n",
    "number_emptydata = 0\n",
    "for i in range(len(WildFiresData)):\n",
    "    dateoffire = WildFiresData['Date'].iloc[i]\n",
    "    region = WildFiresData['Region'].iloc[i]\n",
    "    spliteddate = dateoffire.split('/')\n",
    "    if int(spliteddate[0]) < 10:\n",
    "        spliteddate[0] = '0' + spliteddate[0]\n",
    "    if int(spliteddate[1]) < 10:\n",
    "        spliteddate[1] = '0' + spliteddate[1]\n",
    "    finaldate = spliteddate[2] + '-' + spliteddate[1] + '-' + spliteddate[0]\n",
    "    matchdate = HistoricalWeather[HistoricalWeather['Date'] == finaldate]\n",
    "    final_matcheddate = matchdate[matchdate['Region'] == region]\n",
    "    try:\n",
    "        Precipitation = final_matcheddate[final_matcheddate['Parameter'] == 'Precipitation']['mean()'].iloc[0]\n",
    "        RelativeHumidity = final_matcheddate[final_matcheddate['Parameter'] == 'RelativeHumidity']['mean()'].iloc[0]\n",
    "        SoilWaterContent = final_matcheddate[final_matcheddate['Parameter'] == 'SoilWaterContent']['mean()'].iloc[0]\n",
    "        SolarRadiation = final_matcheddate[final_matcheddate['Parameter'] == 'SolarRadiation']['mean()'].iloc[0]\n",
    "        Temperature = final_matcheddate[final_matcheddate['Parameter'] == 'Temperature']['mean()'].iloc[0]\n",
    "        WindSpeed = final_matcheddate[final_matcheddate['Parameter'] == 'WindSpeed']['mean()'].iloc[0]\n",
    "        data_train.append([Precipitation, RelativeHumidity, SoilWaterContent, SolarRadiation, Temperature, WindSpeed])\n",
    "        label_train.append(1)\n",
    "    except:\n",
    "        number_emptydata += 1 \n",
    "    try:\n",
    "        allregion = matchdate['Region'].drop_duplicates().values\n",
    "        allregion = np.delete(allregion, np.where(allregion == region))\n",
    "        for tempregion in allregion:\n",
    "            final_matchedlabeldate = matchdate[matchdate['Region'] == tempregion]\n",
    "            Precipitation = final_matchedlabeldate[final_matchedlabeldate['Parameter'] == 'Precipitation']['mean()'].iloc[0]\n",
    "            RelativeHumidity = final_matchedlabeldate[final_matchedlabeldate['Parameter'] == 'RelativeHumidity']['mean()'].iloc[0]\n",
    "            SoilWaterContent = final_matchedlabeldate[final_matchedlabeldate['Parameter'] == 'SoilWaterContent']['mean()'].iloc[0]\n",
    "            SolarRadiation = final_matchedlabeldate[final_matchedlabeldate['Parameter'] == 'SolarRadiation']['mean()'].iloc[0]\n",
    "            Temperature = final_matchedlabeldate[final_matchedlabeldate['Parameter'] == 'Temperature']['mean()'].iloc[0]\n",
    "            WindSpeed = final_matchedlabeldate[final_matchedlabeldate['Parameter'] == 'WindSpeed']['mean()'].iloc[0]\n",
    "            data_train.append([Precipitation, RelativeHumidity, SoilWaterContent, SolarRadiation, Temperature, WindSpeed])\n",
    "            label_train.append(0)\n",
    "    except:  \n",
    "        number_emptydata += 1 "
   ]
  },
  {
   "cell_type": "markdown",
   "metadata": {},
   "source": [
    "Use Machine Learning with trained data and labels to predict wildfire:"
   ]
  },
  {
   "cell_type": "code",
   "execution_count": 27,
   "metadata": {},
   "outputs": [
    {
     "name": "stdout",
     "output_type": "stream",
     "text": [
      "mean wind (m/s):11\n",
      "mean temperature (C):40\n",
      "mean humidity (%):5\n",
      "mean precipitation(in):0.04\n",
      "mean soil water content(m**3/m**-3):0.1\n",
      "mean solar radiation(MJ/day):30\n",
      "Probability of occuring fire by Machine Learing(%):  99.08\n",
      "Fire index by FFWI formula:  75.99\n",
      "Danger level by average probability of FFWI formula and ML:  High (dangerous!)\n"
     ]
    }
   ],
   "source": [
    "dangerlavel = str()\n",
    "\n",
    "def FFWIformula(windavr, tempavr, havr):\n",
    "    tempavr = (tempavr * (9/5)) + 32\n",
    "    windavr = windavr/0.44704\n",
    "    if havr < 10:\n",
    "        m = 0.03229 + (0.281073 * havr)-(0.000578 * havr * tempavr)\n",
    "    elif 10 <= havr <= 50:\n",
    "        m = 2.22749 + (0.160107 * havr) - (0.01478 * tempavr)\n",
    "    elif havr > 50:\n",
    "        m = 21.0606 + (0.005565 * havr**2) - (0.00035 * havr * tempavr) - (0.483199 * havr)\n",
    "    n = 1 - (2 * (m/30)) + (1.5 * (m/30)**2) - (0.5 * (m/30)**3)\n",
    "    FFWI = n * (math.sqrt(1 + windavr**2)/0.3002)\n",
    "    return round(FFWI, 2)\n",
    "\n",
    "def machinelearing(Precipitation, RelativeHumidity, SoilWaterContent, SolarRadiation, Temperature, WindSpeed):\n",
    "    model = MultinomialNB()\n",
    "    X = data_train\n",
    "    y = label_train\n",
    "    model.fit(X, y)\n",
    "    return round(model.predict_proba([[Precipitation, RelativeHumidity, SoilWaterContent, SolarRadiation, Temperature, WindSpeed]])[0][1]*100,2)\n",
    "\n",
    "wind = float(input('mean wind (m/s):'))\n",
    "temperature = float(input('mean temperature (C):'))\n",
    "humidity = float(input('mean humidity (%):'))\n",
    "precipitation = float(input('mean precipitation(in):'))\n",
    "soilwatercontent = float(input('mean soil water content(m**3/m**-3):'))\n",
    "solarradiation = float(input('mean solar radiation(MJ/day):'))\n",
    "\n",
    "averageProb = (machinelearing(precipitation, humidity, soilwatercontent, solarradiation, temperature, wind) + FFWIformula(wind, temperature, humidity))/2\n",
    "if averageProb < 50:\n",
    "    dangerlavel = 'Low'\n",
    "elif 50 <= averageProb < 70:\n",
    "    dangerlavel = 'Medium'\n",
    "elif 70 <= averageProb < 90:\n",
    "    dangerlavel = 'High (dangerous!)'\n",
    "elif 90 <= averageProb <= 100:\n",
    "    dangerlavel = 'Extreme (Very dangerous!)'\n",
    "elif 101 <= averageProb:\n",
    "    dangerlavel = 'Very Extreme (Extremely dangerous!)'\n",
    "    \n",
    "print('Probability of occuring fire by Machine Learing(%): ', machinelearing(precipitation, humidity, soilwatercontent, solarradiation, temperature, wind))\n",
    "print('Fire index by FFWI formula: ', FFWIformula(wind, temperature, humidity))\n",
    "print('Danger level by average probability of FFWI formula and ML: ', dangerlavel)"
   ]
  }
 ],
 "metadata": {
  "kernelspec": {
   "display_name": "Python 3",
   "language": "python",
   "name": "python3"
  },
  "language_info": {
   "codemirror_mode": {
    "name": "ipython",
    "version": 3
   },
   "file_extension": ".py",
   "mimetype": "text/x-python",
   "name": "python",
   "nbconvert_exporter": "python",
   "pygments_lexer": "ipython3",
   "version": "3.6.9"
  }
 },
 "nbformat": 4,
 "nbformat_minor": 2
}
